{
  "nbformat": 4,
  "nbformat_minor": 0,
  "metadata": {
    "colab": {
      "provenance": [],
      "authorship_tag": "ABX9TyPcnBuBXzUCRIOLBtLLIF0F",
      "include_colab_link": true
    },
    "kernelspec": {
      "name": "python3",
      "display_name": "Python 3"
    },
    "language_info": {
      "name": "python"
    }
  },
  "cells": [
    {
      "cell_type": "markdown",
      "metadata": {
        "id": "view-in-github",
        "colab_type": "text"
      },
      "source": [
        "<a href=\"https://colab.research.google.com/github/MuntahaTazeem5/Convert-Roman-Numerals-with-Python/blob/main/roman_numeral.ipynb\" target=\"_parent\"><img src=\"https://colab.research.google.com/assets/colab-badge.svg\" alt=\"Open In Colab\"/></a>"
      ]
    },
    {
      "cell_type": "code",
      "execution_count": 6,
      "metadata": {
        "colab": {
          "base_uri": "https://localhost:8080/"
        },
        "id": "Sd-5Lw8k2dcL",
        "outputId": "55af5a03-6f61-4488-9a50-a372b4f587bd"
      },
      "outputs": [
        {
          "name": "stdout",
          "output_type": "stream",
          "text": [
            "Enter the roman numerals you want to convert: 5\n"
          ]
        }
      ],
      "source": [
        "numeral_input = input(\"Enter the roman numerals you want to convert: \")"
      ]
    },
    {
      "cell_type": "code",
      "source": [
        "def roman_to_int(numeral):\n",
        "  final_answer = 0\n",
        "\n",
        "  # Handle subtractive cases first\n",
        "  if \"CM\" in numeral:\n",
        "    final_answer += 900\n",
        "    numeral = numeral.replace(\"CM\", \"\")\n",
        "  if \"CD\" in numeral:\n",
        "    final_answer += 400\n",
        "    numeral = numeral.replace(\"CD\", \"\")\n",
        "  if \"XC\" in numeral:\n",
        "    final_answer += 90\n",
        "    numeral = numeral.replace(\"XC\", \"\")\n",
        "  if \"XL\" in numeral:\n",
        "    final_answer += 40\n",
        "    numeral = numeral.replace(\"XL\", \"\")\n",
        "  if \"IX\" in numeral:\n",
        "    final_answer += 9\n",
        "    numeral = numeral.replace(\"IX\", \"\")\n",
        "  if \"IV\" in numeral:\n",
        "    final_answer += 4\n",
        "    numeral = numeral.replace(\"IV\", \"\")\n",
        "\n",
        "  # Handle additive cases\n",
        "  for i in numeral:\n",
        "    if i == \"M\":\n",
        "      final_answer += 1000\n",
        "    elif i == \"D\":\n",
        "      final_answer += 500\n",
        "    elif i == \"C\":\n",
        "      final_answer += 100\n",
        "    elif i == \"L\":\n",
        "      final_answer += 50\n",
        "    elif i == \"X\":\n",
        "      final_answer += 10\n",
        "    elif i == \"V\":\n",
        "      final_answer += 5\n",
        "    elif i == \"I\":\n",
        "      final_answer += 1\n",
        "\n",
        "  return final_answer"
      ],
      "metadata": {
        "id": "jdQpCgFf249E"
      },
      "execution_count": 7,
      "outputs": []
    },
    {
      "cell_type": "code",
      "source": [
        "final_answer = roman_to_int(numeral_input)\n",
        "print(\"The roman numerals you entered translates to: \" + str(final_answer) + \"!\")"
      ],
      "metadata": {
        "colab": {
          "base_uri": "https://localhost:8080/"
        },
        "id": "taZjFKnk3Fdz",
        "outputId": "9c9c8ced-1983-4456-9a0b-304c837f990f"
      },
      "execution_count": 8,
      "outputs": [
        {
          "output_type": "stream",
          "name": "stdout",
          "text": [
            "The roman numerals you entered translates to: 0!\n"
          ]
        }
      ]
    }
  ]
}